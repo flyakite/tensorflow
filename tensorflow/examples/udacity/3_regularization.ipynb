{
 "cells": [
  {
   "cell_type": "markdown",
   "metadata": {
    "colab_type": "text",
    "id": "kR-4eNdK6lYS"
   },
   "source": [
    "Deep Learning\n",
    "=============\n",
    "\n",
    "Assignment 3\n",
    "------------\n",
    "\n",
    "Previously in `2_fullyconnected.ipynb`, you trained a logistic regression and a neural network model.\n",
    "\n",
    "The goal of this assignment is to explore regularization techniques."
   ]
  },
  {
   "cell_type": "code",
   "execution_count": 1,
   "metadata": {
    "cellView": "both",
    "colab": {
     "autoexec": {
      "startup": false,
      "wait_interval": 0
     }
    },
    "colab_type": "code",
    "collapsed": true,
    "id": "JLpLa8Jt7Vu4"
   },
   "outputs": [],
   "source": [
    "# These are all the modules we'll be using later. Make sure you can import them\n",
    "# before proceeding further.\n",
    "from __future__ import print_function\n",
    "import numpy as np\n",
    "import tensorflow as tf\n",
    "from six.moves import cPickle as pickle"
   ]
  },
  {
   "cell_type": "markdown",
   "metadata": {
    "colab_type": "text",
    "id": "1HrCK6e17WzV"
   },
   "source": [
    "First reload the data we generated in _notmist.ipynb_."
   ]
  },
  {
   "cell_type": "code",
   "execution_count": 2,
   "metadata": {
    "cellView": "both",
    "colab": {
     "autoexec": {
      "startup": false,
      "wait_interval": 0
     },
     "output_extras": [
      {
       "item_id": 1
      }
     ]
    },
    "colab_type": "code",
    "collapsed": false,
    "executionInfo": {
     "elapsed": 11777,
     "status": "ok",
     "timestamp": 1449849322348,
     "user": {
      "color": "",
      "displayName": "",
      "isAnonymous": false,
      "isMe": true,
      "permissionId": "",
      "photoUrl": "",
      "sessionId": "0",
      "userId": ""
     },
     "user_tz": 480
    },
    "id": "y3-cj1bpmuxc",
    "outputId": "e03576f1-ebbe-4838-c388-f1777bcc9873"
   },
   "outputs": [
    {
     "name": "stdout",
     "output_type": "stream",
     "text": [
      "Training set (200000, 28, 28) (200000,)\n",
      "Validation set (10000, 28, 28) (10000,)\n",
      "Test set (10000, 28, 28) (10000,)\n"
     ]
    }
   ],
   "source": [
    "pickle_file = 'notMNIST.pickle'\n",
    "\n",
    "with open(pickle_file, 'rb') as f:\n",
    "  save = pickle.load(f)\n",
    "  train_dataset = save['train_dataset']\n",
    "  train_labels = save['train_labels']\n",
    "  valid_dataset = save['valid_dataset']\n",
    "  valid_labels = save['valid_labels']\n",
    "  test_dataset = save['test_dataset']\n",
    "  test_labels = save['test_labels']\n",
    "  del save  # hint to help gc free up memory\n",
    "  print('Training set', train_dataset.shape, train_labels.shape)\n",
    "  print('Validation set', valid_dataset.shape, valid_labels.shape)\n",
    "  print('Test set', test_dataset.shape, test_labels.shape)"
   ]
  },
  {
   "cell_type": "markdown",
   "metadata": {
    "colab_type": "text",
    "id": "L7aHrm6nGDMB"
   },
   "source": [
    "Reformat into a shape that's more adapted to the models we're going to train:\n",
    "- data as a flat matrix,\n",
    "- labels as float 1-hot encodings."
   ]
  },
  {
   "cell_type": "code",
   "execution_count": 3,
   "metadata": {
    "cellView": "both",
    "colab": {
     "autoexec": {
      "startup": false,
      "wait_interval": 0
     },
     "output_extras": [
      {
       "item_id": 1
      }
     ]
    },
    "colab_type": "code",
    "collapsed": false,
    "executionInfo": {
     "elapsed": 11728,
     "status": "ok",
     "timestamp": 1449849322356,
     "user": {
      "color": "",
      "displayName": "",
      "isAnonymous": false,
      "isMe": true,
      "permissionId": "",
      "photoUrl": "",
      "sessionId": "0",
      "userId": ""
     },
     "user_tz": 480
    },
    "id": "IRSyYiIIGIzS",
    "outputId": "3f8996ee-3574-4f44-c953-5c8a04636582"
   },
   "outputs": [
    {
     "name": "stdout",
     "output_type": "stream",
     "text": [
      "Training set (200000, 784) (200000, 10)\n",
      "Validation set (10000, 784) (10000, 10)\n",
      "Test set (10000, 784) (10000, 10)\n"
     ]
    }
   ],
   "source": [
    "image_size = 28\n",
    "num_labels = 10\n",
    "\n",
    "def reformat(dataset, labels):\n",
    "  dataset = dataset.reshape((-1, image_size * image_size)).astype(np.float32)\n",
    "  # Map 2 to [0.0, 1.0, 0.0 ...], 3 to [0.0, 0.0, 1.0 ...]\n",
    "  labels = (np.arange(num_labels) == labels[:,None]).astype(np.float32)\n",
    "  return dataset, labels\n",
    "train_dataset, train_labels = reformat(train_dataset, train_labels)\n",
    "valid_dataset, valid_labels = reformat(valid_dataset, valid_labels)\n",
    "test_dataset, test_labels = reformat(test_dataset, test_labels)\n",
    "print('Training set', train_dataset.shape, train_labels.shape)\n",
    "print('Validation set', valid_dataset.shape, valid_labels.shape)\n",
    "print('Test set', test_dataset.shape, test_labels.shape)"
   ]
  },
  {
   "cell_type": "code",
   "execution_count": 4,
   "metadata": {
    "cellView": "both",
    "colab": {
     "autoexec": {
      "startup": false,
      "wait_interval": 0
     }
    },
    "colab_type": "code",
    "collapsed": true,
    "id": "RajPLaL_ZW6w"
   },
   "outputs": [],
   "source": [
    "def accuracy(predictions, labels):\n",
    "  return (100.0 * np.sum(np.argmax(predictions, 1) == np.argmax(labels, 1))\n",
    "          / predictions.shape[0])"
   ]
  },
  {
   "cell_type": "markdown",
   "metadata": {
    "colab_type": "text",
    "id": "sgLbUAQ1CW-1"
   },
   "source": [
    "---\n",
    "Problem 1\n",
    "---------\n",
    "\n",
    "Introduce and tune L2 regularization for both logistic and neural network models. Remember that L2 amounts to adding a penalty on the norm of the weights to the loss. In TensorFlow, you can compute the L2 loss for a tensor `t` using `nn.l2_loss(t)`. The right amount of regularization should improve your validation / test accuracy.\n",
    "\n",
    "---"
   ]
  },
  {
   "cell_type": "code",
   "execution_count": 14,
   "metadata": {
    "collapsed": false
   },
   "outputs": [
    {
     "name": "stdout",
     "output_type": "stream",
     "text": [
      "TensorShape([Dimension(10000), Dimension(784)])\n",
      "TensorShape([Dimension(784), Dimension(10)])\n"
     ]
    }
   ],
   "source": [
    "train_subset = 10000\n",
    "beta = 0.05\n",
    "graph = tf.Graph()\n",
    "with graph.as_default():\n",
    "    tf_train_X = tf.constant(train_dataset[:train_subset, :])\n",
    "    tf_train_y = tf.constant(train_labels[:train_subset, :])\n",
    "    tf_valid_X = tf.constant(valid_dataset)\n",
    "    tf_valid_y = tf.constant(valid_labels)\n",
    "    tf_test_X = tf.constant(test_dataset)\n",
    "    print(tf_train_X.get_shape())\n",
    "    W = tf.Variable(tf.truncated_normal([image_size * image_size, num_labels]))\n",
    "    b = tf.Variable(tf.zeros([num_labels]))\n",
    "    print(W.get_shape())\n",
    "    logits = tf.matmul(tf_train_X, W) + b\n",
    "    loss = tf.reduce_mean(tf.nn.softmax_cross_entropy_with_logits(logits, tf_train_y))\n",
    "    loss = loss + 0.5*beta*tf.nn.l2_loss(W)\n",
    "    \n",
    "    op = tf.train.GradientDescentOptimizer(0.5).minimize(loss)\n",
    "    train_predict = tf.nn.softmax(logits)\n",
    "    valid_predict = tf.nn.softmax(tf.matmul(tf_valid_X, W) + b)\n",
    "    test_predict = tf.nn.softmax(tf.matmul(tf_test_X, W) + b)\n",
    "    "
   ]
  },
  {
   "cell_type": "code",
   "execution_count": 18,
   "metadata": {
    "collapsed": false
   },
   "outputs": [
    {
     "name": "stdout",
     "output_type": "stream",
     "text": [
      "Loss at step 0: 93.403900\n",
      "Training accuracy: 10.9%\n",
      "Validation accuracy: 14.7%\n",
      "Loss at step 100: 6.582597\n",
      "Training accuracy: 77.8%\n",
      "Validation accuracy: 76.9%\n",
      "Loss at step 200: 1.178381\n",
      "Training accuracy: 83.4%\n",
      "Validation accuracy: 81.7%\n",
      "Loss at step 300: 0.780907\n",
      "Training accuracy: 83.8%\n",
      "Validation accuracy: 82.1%\n",
      "Loss at step 400: 0.750403\n",
      "Training accuracy: 83.9%\n",
      "Validation accuracy: 82.1%\n",
      "Loss at step 500: 0.747816\n",
      "Training accuracy: 83.9%\n",
      "Validation accuracy: 82.1%\n",
      "Loss at step 600: 0.747487\n",
      "Training accuracy: 83.9%\n",
      "Validation accuracy: 82.1%\n",
      "Loss at step 700: 0.747391\n",
      "Training accuracy: 84.0%\n",
      "Validation accuracy: 82.1%\n",
      "Loss at step 800: 0.747344\n",
      "Training accuracy: 84.0%\n",
      "Validation accuracy: 82.1%\n",
      "Test accuracy: 88.6%\n"
     ]
    }
   ],
   "source": [
    "num_steps = 801\n",
    "\n",
    "def accuracy(predictions, labels):\n",
    "    return 100.0 * np.sum(np.argmax(predictions, 1) == np.argmax(labels, 1)) / predictions.shape[0]\n",
    "\n",
    "with tf.Session(graph=graph) as session:\n",
    "    tf.initialize_all_variables().run()\n",
    "    for step in xrange(num_steps):\n",
    "        _, l, predict = session.run([op, loss, train_predict])\n",
    "        \n",
    "        if step % 100 == 0:\n",
    "            print('Loss at step %d: %f' % (step, l))\n",
    "            print('Training accuracy: %.1f%%' % accuracy(predict, train_labels[:train_subset, :]))\n",
    "            print('Validation accuracy: %.1f%%' % accuracy(valid_predict.eval(), valid_labels))\n",
    "    print('Test accuracy: %.1f%%' % accuracy(test_predict.eval(), test_labels))"
   ]
  },
  {
   "cell_type": "markdown",
   "metadata": {
    "colab_type": "text",
    "id": "na8xX2yHZzNF"
   },
   "source": [
    "---\n",
    "Problem 2\n",
    "---------\n",
    "Let's demonstrate an extreme case of overfitting. Restrict your training data to just a few batches. What happens?\n",
    "\n",
    "---"
   ]
  },
  {
   "cell_type": "code",
   "execution_count": 24,
   "metadata": {
    "collapsed": false
   },
   "outputs": [
    {
     "name": "stdout",
     "output_type": "stream",
     "text": [
      "TensorShape([Dimension(128), Dimension(784)])\n",
      "TensorShape([Dimension(784), Dimension(10)])\n"
     ]
    }
   ],
   "source": [
    "batch_size = 128\n",
    "beta = 0.05\n",
    "graph = tf.Graph()\n",
    "with graph.as_default():\n",
    "    tf_train_X = tf.placeholder(tf.float32, shape=(batch_size, image_size * image_size))\n",
    "    tf_train_y = tf.placeholder(tf.float32, shape=(batch_size, num_labels))\n",
    "    tf_valid_X = tf.constant(valid_dataset)\n",
    "    tf_valid_y = tf.constant(valid_labels)\n",
    "    tf_test_X = tf.constant(test_dataset)\n",
    "    print(tf_train_X.get_shape())\n",
    "    W = tf.Variable(tf.truncated_normal([image_size * image_size, num_labels]))\n",
    "    b = tf.Variable(tf.zeros([num_labels]))\n",
    "    print(W.get_shape())\n",
    "    logits = tf.matmul(tf_train_X, W) + b\n",
    "    loss = tf.reduce_mean(tf.nn.softmax_cross_entropy_with_logits(logits, tf_train_y))\n",
    "    loss = loss + 0.5*beta*tf.nn.l2_loss(W)\n",
    "    \n",
    "    op = tf.train.GradientDescentOptimizer(0.5).minimize(loss)\n",
    "    train_predict = tf.nn.softmax(logits)\n",
    "    valid_predict = tf.nn.softmax(tf.matmul(tf_valid_X, W) + b)\n",
    "    test_predict = tf.nn.softmax(tf.matmul(tf_test_X, W) + b)\n",
    "    "
   ]
  },
  {
   "cell_type": "code",
   "execution_count": 25,
   "metadata": {
    "collapsed": false
   },
   "outputs": [
    {
     "name": "stdout",
     "output_type": "stream",
     "text": [
      "Minibatch loss at step 0: 96.287888\n",
      "Minibatch accuracy: 5.5%\n",
      "Validation accuracy: 8.9%\n",
      "Minibatch loss at step 500: 0.942569\n",
      "Minibatch accuracy: 78.1%\n",
      "Validation accuracy: 80.6%\n",
      "Test accuracy: 86.9%\n"
     ]
    }
   ],
   "source": [
    "num_steps = 801\n",
    "\n",
    "def accuracy(predictions, labels):\n",
    "    return 100.0 * np.sum(np.argmax(predictions, 1) == np.argmax(labels, 1)) / predictions.shape[0]\n",
    "\n",
    "with tf.Session(graph=graph) as session:\n",
    "    tf.initialize_all_variables().run()\n",
    "    for step in xrange(num_steps):\n",
    "        offset = (step * batch_size) % (train_labels.shape[0] - batch_size)\n",
    "        batch_data = train_dataset[offset:(offset+batch_size),:]\n",
    "        batch_labels = train_labels[offset:(offset+batch_size),:]\n",
    "        feed_dict = {\n",
    "            tf_train_X: batch_data,\n",
    "            tf_train_y: batch_labels\n",
    "        }\n",
    "        _, l, predict = session.run([op, loss, train_predict], feed_dict=feed_dict)\n",
    "        \n",
    "        if (step % 500 == 0):\n",
    "            print(\"Minibatch loss at step %d: %f\" % (step, l))\n",
    "            print(\"Minibatch accuracy: %.1f%%\" % accuracy(predict, batch_labels))\n",
    "            print(\"Validation accuracy: %.1f%%\" % accuracy(valid_predict.eval(), valid_labels))\n",
    "    print(\"Test accuracy: %.1f%%\" % accuracy(test_predict.eval(), test_labels))"
   ]
  },
  {
   "cell_type": "markdown",
   "metadata": {
    "colab_type": "text",
    "id": "ww3SCBUdlkRc"
   },
   "source": [
    "---\n",
    "Problem 3\n",
    "---------\n",
    "Introduce Dropout on the hidden layer of the neural network. Remember: Dropout should only be introduced during training, not evaluation, otherwise your evaluation results would be stochastic as well. TensorFlow provides `nn.dropout()` for that, but you have to make sure it's only inserted during training.\n",
    "\n",
    "What happens to our extreme overfitting case?\n",
    "\n",
    "---"
   ]
  },
  {
   "cell_type": "code",
   "execution_count": 58,
   "metadata": {
    "collapsed": false
   },
   "outputs": [],
   "source": [
    "\n",
    "batch_size = 128\n",
    "beta = 0.0005\n",
    "hidden_nodes = 1024\n",
    "graph = tf.Graph()\n",
    "with graph.as_default():\n",
    "    tf_train_X = tf.placeholder(tf.float32, shape=(batch_size, image_size * image_size))\n",
    "    tf_train_y = tf.placeholder(tf.float32, shape=(batch_size, num_labels))\n",
    "    tf_valid_X = tf.constant(valid_dataset)\n",
    "    tf_valid_y = tf.constant(valid_labels)\n",
    "    tf_test_X = tf.constant(test_dataset)\n",
    "\n",
    "    W1 = tf.Variable(tf.truncated_normal([image_size * image_size, hidden_nodes], stddev=1.0/float(image_size)))\n",
    "    b1 = tf.Variable(tf.zeros([hidden_nodes]))\n",
    "    h1 = tf.nn.relu(tf.matmul(tf_train_X, W1) + b1)\n",
    "    keep_rate = tf.placeholder(\"float\")\n",
    "    h1 = tf.nn.dropout(h1, keep_rate)\n",
    "    \n",
    "    W2 = tf.Variable(tf.truncated_normal([hidden_nodes, num_labels]))\n",
    "    b2 = tf.Variable(tf.zeros([num_labels]))\n",
    "    logits = tf.matmul(h1, W2) + b2\n",
    "    loss = tf.reduce_mean(tf.nn.softmax_cross_entropy_with_logits(logits, tf_train_y))\n",
    "    loss = loss + 0.5*beta*tf.nn.l2_loss(W)\n",
    "    \n",
    "    op = tf.train.GradientDescentOptimizer(0.5).minimize(loss)\n",
    "    train_predict = tf.nn.softmax(logits)\n",
    "    valid_predict = tf.nn.softmax(tf.matmul(tf.nn.relu(tf.matmul(tf_valid_X, W1) + b1), W2) + b2)\n",
    "    test_predict = tf.nn.softmax(tf.matmul(tf.nn.relu(tf.matmul(tf_test_X, W1) + b1), W2) + b2)\n",
    "    "
   ]
  },
  {
   "cell_type": "code",
   "execution_count": 59,
   "metadata": {
    "collapsed": false
   },
   "outputs": [
    {
     "name": "stdout",
     "output_type": "stream",
     "text": [
      "Minibatch loss at step 0: 17.263939\n",
      "Minibatch accuracy: 9.4%\n",
      "Validation accuracy: 36.1%\n",
      "Minibatch loss at step 500: 7.267199\n",
      "Minibatch accuracy: 73.4%\n",
      "Validation accuracy: 79.3%\n",
      "Minibatch loss at step 1000: 5.732685\n",
      "Minibatch accuracy: 84.4%\n",
      "Validation accuracy: 81.0%\n",
      "Minibatch loss at step 1500: 2.616941\n",
      "Minibatch accuracy: 78.1%\n",
      "Validation accuracy: 84.8%\n",
      "Minibatch loss at step 2000: 1.791963\n",
      "Minibatch accuracy: 85.9%\n",
      "Validation accuracy: 85.1%\n",
      "Minibatch loss at step 2500: 1.595532\n",
      "Minibatch accuracy: 82.0%\n",
      "Validation accuracy: 86.2%\n",
      "Minibatch loss at step 3000: 1.372820\n",
      "Minibatch accuracy: 82.8%\n",
      "Validation accuracy: 86.3%\n",
      "Minibatch loss at step 3500: 1.185725\n",
      "Minibatch accuracy: 88.3%\n",
      "Validation accuracy: 86.6%\n",
      "Minibatch loss at step 4000: 1.204726\n",
      "Minibatch accuracy: 85.2%\n",
      "Validation accuracy: 87.1%\n",
      "Minibatch loss at step 4500: 1.278616\n",
      "Minibatch accuracy: 83.6%\n",
      "Validation accuracy: 86.8%\n",
      "Minibatch loss at step 5000: 1.328139\n",
      "Minibatch accuracy: 85.9%\n",
      "Validation accuracy: 87.6%\n",
      "Test accuracy: 93.5%\n"
     ]
    }
   ],
   "source": [
    "num_steps = 5001\n",
    "\n",
    "def accuracy(predictions, labels):\n",
    "    return 100.0 * np.sum(np.argmax(predictions, 1) == np.argmax(labels, 1)) / predictions.shape[0]\n",
    "\n",
    "with tf.Session(graph=graph) as session:\n",
    "    tf.initialize_all_variables().run()\n",
    "    for step in xrange(num_steps):\n",
    "        offset = (step * batch_size) % (train_labels.shape[0] - batch_size)\n",
    "        batch_data = train_dataset[offset:(offset+batch_size),:]\n",
    "        batch_labels = train_labels[offset:(offset+batch_size),:]\n",
    "        feed_dict = {\n",
    "            tf_train_X: batch_data,\n",
    "            tf_train_y: batch_labels,\n",
    "            keep_rate: 0.5\n",
    "        }\n",
    "        _, l, predict = session.run([op, loss, train_predict], feed_dict=feed_dict)\n",
    "        \n",
    "        if (step % 500 == 0):\n",
    "            print(\"Minibatch loss at step %d: %f\" % (step, l))\n",
    "            print(\"Minibatch accuracy: %.1f%%\" % accuracy(predict, batch_labels))\n",
    "            print(\"Validation accuracy: %.1f%%\" % accuracy(valid_predict.eval(), valid_labels))\n",
    "    print(\"Test accuracy: %.1f%%\" % accuracy(test_predict.eval(), test_labels))"
   ]
  },
  {
   "cell_type": "markdown",
   "metadata": {
    "colab_type": "text",
    "id": "-b1hTz3VWZjw"
   },
   "source": [
    "---\n",
    "Problem 4\n",
    "---------\n",
    "\n",
    "Try to get the best performance you can using a multi-layer model! The best reported test accuracy using a deep network is [97.1%](http://yaroslavvb.blogspot.com/2011/09/notmnist-dataset.html?showComment=1391023266211#c8758720086795711595).\n",
    "\n",
    "One avenue you can explore is to add multiple layers.\n",
    "\n",
    "Another one is to use learning rate decay:\n",
    "\n",
    "    global_step = tf.Variable(0)  # count the number of steps taken.\n",
    "    learning_rate = tf.train.exponential_decay(0.5, global_step, ...)\n",
    "    optimizer = tf.train.GradientDescentOptimizer(learning_rate).minimize(loss, global_step=global_step)\n",
    " \n",
    " ---\n"
   ]
  },
  {
   "cell_type": "code",
   "execution_count": 87,
   "metadata": {
    "collapsed": false
   },
   "outputs": [],
   "source": [
    "\n",
    "batch_size = 128\n",
    "beta = 0.0005\n",
    "h1_nodes = 1024\n",
    "h2_nodes = 512\n",
    "h3_nodes = 256\n",
    "h4_nodes = 128\n",
    "decay_steps = 10000\n",
    "decay_rate = 0.96\n",
    "\n",
    "graph = tf.Graph()\n",
    "with graph.as_default():\n",
    "    tf_train_X = tf.placeholder(tf.float32, shape=(batch_size, image_size * image_size))\n",
    "    tf_train_y = tf.placeholder(tf.float32, shape=(batch_size, num_labels))\n",
    "    tf_valid_X = tf.constant(valid_dataset)\n",
    "    tf_valid_y = tf.constant(valid_labels)\n",
    "    tf_test_X = tf.constant(test_dataset)\n",
    "    keep_rate = tf.placeholder(\"float\")\n",
    "    global_step = tf.Variable(0)\n",
    "    \n",
    "    W1 = tf.Variable(tf.truncated_normal([image_size * image_size, h1_nodes], stddev=1.0/float(image_size)))\n",
    "    b1 = tf.Variable(tf.zeros([h1_nodes]))\n",
    "    h1 = tf.nn.relu(tf.matmul(tf_train_X, W1) + b1)\n",
    "    h1 = tf.nn.dropout(h1, keep_rate)\n",
    "\n",
    "    W2 = tf.Variable(tf.truncated_normal([h1_nodes, h2_nodes], stddev=1.0/float(h2_nodes)))\n",
    "    b2 = tf.Variable(tf.zeros([h2_nodes]))\n",
    "    h2 = tf.nn.relu(tf.matmul(h1, W2) + b2)\n",
    "    h2 = tf.nn.dropout(h2, keep_rate)\n",
    "    \n",
    "    W3 = tf.Variable(tf.truncated_normal([h2_nodes, h3_nodes], stddev=1.0/float(h3_nodes)))\n",
    "    b3 = tf.Variable(tf.zeros([h3_nodes]))\n",
    "    h3 = tf.nn.relu(tf.matmul(h2, W3) + b3)\n",
    "    h3 = tf.nn.dropout(h3, keep_rate)\n",
    "    \n",
    "    W4 = tf.Variable(tf.truncated_normal([h3_nodes, num_labels], stddev=1.0/float(num_labels)))\n",
    "    b4 = tf.Variable(tf.zeros([num_labels]))\n",
    "    \n",
    "    logits = tf.matmul(h3, W4) + b4\n",
    "    loss = tf.reduce_mean(tf.nn.softmax_cross_entropy_with_logits(logits, tf_train_y))\n",
    "    loss = loss + 0.5*beta*(tf.nn.l2_loss(W1)+tf.nn.l2_loss(W2)+tf.nn.l2_loss(W3)+tf.nn.l2_loss(W4))\n",
    "\n",
    "    learning_rate = tf.train.exponential_decay(0.5, global_step, decay_steps, decay_rate)\n",
    "    op = tf.train.GradientDescentOptimizer(learning_rate).minimize(loss, global_step=global_step)\n",
    "    train_predict = tf.nn.softmax(logits)\n",
    "    valid_predict = tf.nn.softmax(tf.matmul(tf.nn.relu(tf.matmul(tf.nn.relu(tf.matmul(tf.nn.relu(tf.matmul(tf_valid_X, W1) + b1), W2) + b2), W3) + b3), W4) + b4)\n",
    "    test_predict = tf.nn.softmax(tf.matmul(tf.nn.relu(tf.matmul(tf.nn.relu(tf.matmul(tf.nn.relu(tf.matmul(tf_test_X, W1) + b1), W2) + b2), W3) + b3), W4) + b4)\n",
    "    "
   ]
  },
  {
   "cell_type": "code",
   "execution_count": 88,
   "metadata": {
    "collapsed": false
   },
   "outputs": [
    {
     "name": "stdout",
     "output_type": "stream",
     "text": [
      "Minibatch loss at step 0: 2.404773\n",
      "Minibatch accuracy: 10.9%\n",
      "Validation accuracy: 10.0%\n",
      "Minibatch loss at step 500: 0.639067\n",
      "Minibatch accuracy: 83.6%\n",
      "Validation accuracy: 85.1%\n",
      "Minibatch loss at step 1000: 0.626695\n",
      "Minibatch accuracy: 80.5%\n",
      "Validation accuracy: 86.8%\n",
      "Minibatch loss at step 1500: 0.496844\n",
      "Minibatch accuracy: 89.8%\n",
      "Validation accuracy: 87.7%\n",
      "Minibatch loss at step 2000: 0.593494\n",
      "Minibatch accuracy: 84.4%\n",
      "Validation accuracy: 87.8%\n",
      "Minibatch loss at step 2500: 0.452017\n",
      "Minibatch accuracy: 89.1%\n",
      "Validation accuracy: 88.4%\n",
      "Minibatch loss at step 3000: 0.559841\n",
      "Minibatch accuracy: 85.9%\n",
      "Validation accuracy: 88.5%\n",
      "Minibatch loss at step 3500: 0.470520\n",
      "Minibatch accuracy: 87.5%\n",
      "Validation accuracy: 89.2%\n",
      "Minibatch loss at step 4000: 0.413239\n",
      "Minibatch accuracy: 92.2%\n",
      "Validation accuracy: 89.4%\n",
      "Minibatch loss at step 4500: 0.374800\n",
      "Minibatch accuracy: 89.8%\n",
      "Validation accuracy: 89.5%\n",
      "Minibatch loss at step 5000: 0.435176\n",
      "Minibatch accuracy: 90.6%\n",
      "Validation accuracy: 89.6%\n",
      "Minibatch loss at step 5500: 0.377927\n",
      "Minibatch accuracy: 90.6%\n",
      "Validation accuracy: 89.6%\n",
      "Minibatch loss at step 6000: 0.505043\n",
      "Minibatch accuracy: 86.7%\n",
      "Validation accuracy: 89.2%\n",
      "Minibatch loss at step 6500: 0.410451\n",
      "Minibatch accuracy: 90.6%\n",
      "Validation accuracy: 89.6%\n",
      "Minibatch loss at step 7000: 0.344232\n",
      "Minibatch accuracy: 92.2%\n",
      "Validation accuracy: 89.8%\n",
      "Minibatch loss at step 7500: 0.349705\n",
      "Minibatch accuracy: 93.8%\n",
      "Validation accuracy: 89.9%\n",
      "Minibatch loss at step 8000: 0.454561\n",
      "Minibatch accuracy: 88.3%\n",
      "Validation accuracy: 90.4%\n",
      "Minibatch loss at step 8500: 0.418104\n",
      "Minibatch accuracy: 91.4%\n",
      "Validation accuracy: 89.9%\n",
      "Minibatch loss at step 9000: 0.477586\n",
      "Minibatch accuracy: 89.1%\n",
      "Validation accuracy: 89.1%\n",
      "Minibatch loss at step 9500: 0.385233\n",
      "Minibatch accuracy: 92.2%\n",
      "Validation accuracy: 90.1%\n",
      "Minibatch loss at step 10000: 0.500886\n",
      "Minibatch accuracy: 84.4%\n",
      "Validation accuracy: 90.2%\n",
      "Test accuracy: 95.2%\n"
     ]
    }
   ],
   "source": [
    "num_steps = 10001\n",
    "\n",
    "def accuracy(predictions, labels):\n",
    "    return 100.0 * np.sum(np.argmax(predictions, 1) == np.argmax(labels, 1)) / predictions.shape[0]\n",
    "\n",
    "with tf.Session(graph=graph) as session:\n",
    "    tf.initialize_all_variables().run()\n",
    "    for step in xrange(num_steps):\n",
    "        offset = (step * batch_size) % (train_labels.shape[0] - batch_size)\n",
    "        batch_data = train_dataset[offset:(offset+batch_size),:]\n",
    "        batch_labels = train_labels[offset:(offset+batch_size),:]\n",
    "        feed_dict = {\n",
    "            tf_train_X: batch_data,\n",
    "            tf_train_y: batch_labels,\n",
    "            keep_rate: 0.8\n",
    "        }\n",
    "        _, l, predict = session.run([op, loss, train_predict], feed_dict=feed_dict)\n",
    "        \n",
    "        if (step % 500 == 0):\n",
    "            print(\"Minibatch loss at step %d: %f\" % (step, l))\n",
    "            print(\"Minibatch accuracy: %.1f%%\" % accuracy(predict, batch_labels))\n",
    "            print(\"Validation accuracy: %.1f%%\" % accuracy(valid_predict.eval(), valid_labels))\n",
    "    print(\"Test accuracy: %.1f%%\" % accuracy(test_predict.eval(), test_labels))"
   ]
  },
  {
   "cell_type": "code",
   "execution_count": null,
   "metadata": {
    "collapsed": true
   },
   "outputs": [],
   "source": []
  }
 ],
 "metadata": {
  "colab": {
   "default_view": {},
   "name": "3_regularization.ipynb",
   "provenance": [],
   "version": "0.3.2",
   "views": {}
  },
  "kernelspec": {
   "display_name": "Python 2",
   "language": "python",
   "name": "python2"
  },
  "language_info": {
   "codemirror_mode": {
    "name": "ipython",
    "version": 2
   },
   "file_extension": ".py",
   "mimetype": "text/x-python",
   "name": "python",
   "nbconvert_exporter": "python",
   "pygments_lexer": "ipython2",
   "version": "2.7.6"
  }
 },
 "nbformat": 4,
 "nbformat_minor": 0
}
